{
 "cells": [
  {
   "cell_type": "markdown",
   "id": "94e7f054",
   "metadata": {},
   "source": [
    "# 応用情報工学演習：Scikit-Learnマスターコース\n",
    "## 実践編 配布用コードファイル"
   ]
  },
  {
   "cell_type": "markdown",
   "id": "05475811",
   "metadata": {},
   "source": [
    "#### 基本ライブラリの読み込み"
   ]
  },
  {
   "cell_type": "code",
   "execution_count": 1,
   "id": "29e49b0f",
   "metadata": {
    "scrolled": true
   },
   "outputs": [],
   "source": [
    "import os, sys\n",
    "import glob\n",
    "\n",
    "import warnings\n",
    "warnings.simplefilter('ignore')\n",
    "\n",
    "import numpy as np\n",
    "from sklearn.metrics import accuracy_score\n",
    "from PIL import Image\n",
    "\n",
    "# 自作モジュールのインポート\n",
    "from utils.train import fit, evaluate_history, generate_pseudo_labels ,torch_seed, fit_self_train\n",
    "from utils.dataset import MyDataset\n",
    "\n",
    "# 必要ライブラリのインポート\n",
    "import matplotlib.pyplot as plt\n",
    "\n",
    "# PyTorch関連ライブラリのインポート\n",
    "import torch\n",
    "import torch.nn as nn\n",
    "import torch.optim as optim\n",
    "from torch.utils.data import DataLoader\n",
    "from torchvision import models\n",
    "\n",
    "# warning表示off\n",
    "import warnings\n",
    "warnings.simplefilter('ignore')\n",
    "\n",
    "# デフォルトフォントサイズ変更\n",
    "plt.rcParams['font.size'] = 14\n",
    "\n",
    "# デフォルトグラフサイズ変更\n",
    "plt.rcParams['figure.figsize'] = (6,6)\n",
    "\n",
    "# デフォルトで方眼表示ON\n",
    "plt.rcParams['axes.grid'] = True\n",
    "\n",
    "# numpyの表示桁数設定\n",
    "np.set_printoptions(suppress=True, precision=5)\n",
    "\n",
    "np.random.seed(1)"
   ]
  },
  {
   "cell_type": "markdown",
   "id": "e0c439ac",
   "metadata": {},
   "source": [
    "### Cudaのチェック"
   ]
  },
  {
   "cell_type": "code",
   "execution_count": 2,
   "id": "d9188925",
   "metadata": {},
   "outputs": [
    {
     "name": "stdout",
     "output_type": "stream",
     "text": [
      "cuda:0\n"
     ]
    }
   ],
   "source": [
    "device = torch.device(\"cuda:0\" if torch.cuda.is_available() else \"cpu\")\n",
    "print(device)"
   ]
  },
  {
   "cell_type": "markdown",
   "id": "3f4a261d",
   "metadata": {},
   "source": [
    "#### データ読み込み関数"
   ]
  },
  {
   "cell_type": "code",
   "execution_count": 3,
   "id": "42558127",
   "metadata": {},
   "outputs": [],
   "source": [
    "#-*-*-*-*-*-*-*-*-*-*-*-*-*-*-*-*-*-*-*-*-*-*-*-*-*-*-*-*-*-*-*-*-*-*-*-*-*-*-*-*-*-*-*-*-*-#\n",
    "#                               このセルは変更を禁止します                                  #\n",
    "#-*-*-*-*-*-*-*-*-*-*-*-*-*-*-*-*-*-*-*-*-*-*-*-*-*-*-*-*-*-*-*-*-*-*-*-*-*-*-*-*-*-*-*-*-*-#\n",
    "#-------------------------------------------------------------------------------------------#\n",
    "#-                                  データ読み込み関数                                     -#\n",
    "#-------------------------------------------------------------------------------------------#\n",
    "def load_data_(root_dir='../data/gw_dataset'):\n",
    "    \"\"\"\n",
    "    グループワーク用　学習用データ読み込み関数\n",
    "\n",
    "    Args:\n",
    "        * root_dir: 配布したgw_datasetへのパスを指定する (default: '../data/gw_dataset')\n",
    "        \n",
    "    Output:\n",
    "        * X_train:  正解ラベル付き学習用画像   shape: (140x150,528)\n",
    "                    1行あたり、画像1枚の画素値を格納したnp.array\n",
    "                    画像140枚、各画像224x224=150,528次元のベクトル\n",
    "                    \n",
    "        * y_train:  X_trainの正解ラベル        shape: (140, )\n",
    "                    クラス数は7　140枚分のクラスラベル（0～6）の整数が格納されている\n",
    "        \n",
    "        * X_trainu: 正解ラベルなし学習用画像   shape: (210x150,528)\n",
    "                    形式はX_trainと同じ\n",
    "                    \n",
    "        * X_val:   正解ラベル付き検証用画像   shape: (70x150,528)\n",
    "                    形式はX_trainと同じ\n",
    "                    \n",
    "        * y_val:    X_valの正解ラベル          shape: (70, )\n",
    "                    形式はy_valと同じ                             \n",
    "    \"\"\"\n",
    "    \n",
    "    #----------------- 学習用データの読み込み -------------------#\n",
    "    train_paths = sorted(glob.glob(os.path.join(root_dir, \"train\", \"*.png\")))\n",
    "    \n",
    "    X_train = np.array([np.array(Image.open(p)).astype(np.float32).ravel() for p in train_paths])\n",
    "    y_train = np.load(os.path.join(root_dir, \"y_train.npy\"))\n",
    "\n",
    "    #------------ ラベルなし学習用データの読み込み --------------#\n",
    "    trainu_paths = sorted(glob.glob(os.path.join(root_dir, \"train-u\", \"*.png\")))\n",
    "    X_trainu = np.array([np.array(Image.open(p)).astype(np.float32).ravel() for p in trainu_paths])\n",
    "    \n",
    "    #----------------- 検証用データの読み込み -------------------#\n",
    "    val_paths = sorted(glob.glob(os.path.join(root_dir,\"val\", \"*.png\")))\n",
    "    X_val = np.array([np.array(Image.open(p)).astype(np.float32).ravel() for p in val_paths])\n",
    "    y_val = np.load(os.path.join(root_dir, \"y_val.npy\"))\n",
    "\n",
    "    return X_train, y_train, X_trainu, X_val, y_val"
   ]
  },
  {
   "cell_type": "code",
   "execution_count": 4,
   "id": "4f4ef9ba",
   "metadata": {},
   "outputs": [
    {
     "name": "stdout",
     "output_type": "stream",
     "text": [
      "(140, 150528) (140,) (210, 150528) (70, 150528) (70,)\n"
     ]
    }
   ],
   "source": [
    "### データ読み込み関数の実行\n",
    "X_train, y_train, X_trainu, X_val, y_val = load_data_() # すべて必要な場合\n",
    "print(X_train.shape, y_train.shape, X_trainu.shape, X_val.shape, y_val.shape)\n",
    "\n",
    "# X_train, y_train, _, X_val, y_val = load_data_() # いらないデータがある場合\n",
    "# print(X_train.shape, y_train.shape, X_val.shape, y_val.shape)"
   ]
  },
  {
   "cell_type": "markdown",
   "id": "3a6fa050",
   "metadata": {},
   "source": [
    "#### 評価関数"
   ]
  },
  {
   "cell_type": "code",
   "execution_count": 5,
   "id": "22a0fbcf",
   "metadata": {
    "scrolled": true
   },
   "outputs": [],
   "source": [
    "#-*-*-*-*-*-*-*-*-*-*-*-*-*-*-*-*-*-*-*-*-*-*-*-*-*-*-*-*-*-*-*-*-*-*-*-*-*-*-*-*-*-*-*-*-*-#\n",
    "#                               このセルは変更を禁止します                                  #\n",
    "#-*-*-*-*-*-*-*-*-*-*-*-*-*-*-*-*-*-*-*-*-*-*-*-*-*-*-*-*-*-*-*-*-*-*-*-*-*-*-*-*-*-*-*-*-*-#\n",
    "#-------------------------------------------------------------------------------------------#\n",
    "#-                                       評価関数                                          -#\n",
    "#-------------------------------------------------------------------------------------------#\n",
    "\n",
    "def eval_(y_pred):\n",
    "    \"\"\"\n",
    "    グループワーク用　評価関数\n",
    "    実行する前にy_valがglobalスコープに読み込まれている必要がある\n",
    "\n",
    "    Args:\n",
    "        * y_pred:   識別結果　y_valと同形式・同shapeでなければならない\n",
    "    \"\"\"\n",
    "\n",
    "    try:\n",
    "        y_val\n",
    "    except NameError as e:\n",
    "        print(\"y_valが読み込まれていません\")\n",
    "        \n",
    "    assert y_pred.shape == y_val.shape, 'y_predとy_valのサイズが一致しません'\n",
    "    \n",
    "    print(\"valデータでの識別精度:{0:.3f}\".format(accuracy_score(y_val, y_pred)))"
   ]
  },
  {
   "cell_type": "markdown",
   "id": "29a95cdb",
   "metadata": {},
   "source": [
    "### データの確認"
   ]
  },
  {
   "cell_type": "code",
   "execution_count": 6,
   "id": "7df4ccf2",
   "metadata": {},
   "outputs": [
    {
     "name": "stdout",
     "output_type": "stream",
     "text": [
      "訓練データ: 140件\n",
      "ラベルなし訓練データ: 210件\n",
      "検証データ: 70件\n"
     ]
    }
   ],
   "source": [
    "# 分類先クラスのリスト作成\n",
    "classes = [ '0', '1', '2', '3', '4', '5', '6']\n",
    "\n",
    "# データを復元\n",
    "X_train_reshaped = X_train.reshape(-1, 224, 224, 3)\n",
    "X_val_reshaped = X_val.reshape(-1, 224, 224, 3)\n",
    "X_trainu_reshaped = X_trainu.reshape(-1, 224, 224, 3)\n",
    "\n",
    "# データセット作成\n",
    "train_data = MyDataset(X_train_reshaped, y_train, type='train')\n",
    "val_data = MyDataset(X_val_reshaped, y_val, type='val')\n",
    "trainu_data = MyDataset(X_trainu_reshaped, None, type='unlabeled')\n",
    "\n",
    "# データ件数確認\n",
    "print(f'訓練データ: {len(train_data)}件')\n",
    "print(f'ラベルなし訓練データ: {len(trainu_data)}件')\n",
    "print(f'検証データ: {len(val_data)}件')\n",
    "\n",
    "# データローダー作成\n",
    "batch_size = 70\n",
    "train_loader = DataLoader(train_data, batch_size=batch_size, shuffle=True)\n",
    "val_loader = DataLoader(val_data, batch_size=batch_size, shuffle=False)\n",
    "unlabeled_loader = DataLoader(trainu_data, batch_size=batch_size, shuffle=False)\n"
   ]
  },
  {
   "cell_type": "markdown",
   "id": "ad4962e0",
   "metadata": {},
   "source": [
    "### モデルの定義"
   ]
  },
  {
   "cell_type": "code",
   "execution_count": null,
   "id": "8606571f",
   "metadata": {},
   "outputs": [],
   "source": [
    "# 試行回数\n",
    "num_epochs = 1000\n",
    "\n",
    "# SelfTrainingの回数\n",
    "num_pseudo_labeling = 5\n",
    "\n",
    "# historyファイルを初期化する\n",
    "history = np.zeros((0, 5), dtype=float)\n",
    "\n",
    "# 学習モデル定義\n",
    "net = models.resnet18(pretrained = True)\n",
    "net.fc = nn.Linear(in_features=net.fc.in_features, out_features=7)  # 7クラスに変更\n",
    "\n",
    "# 乱数初期化\n",
    "torch_seed()\n",
    "\n",
    "# GPUの利用\n",
    "net = net.to(device)\n",
    "\n",
    "# 学習率\n",
    "lr = 0.001\n",
    "\n",
    "# 損失関数定義\n",
    "criterion = nn.CrossEntropyLoss()\n",
    "\n",
    "# 最適化関数定義\n",
    "optimizer = optim.SGD(net.parameters(), lr=lr, momentum=0.9)"
   ]
  },
  {
   "cell_type": "markdown",
   "id": "13f5fe30",
   "metadata": {},
   "source": [
    "### pseudo_labelingと学習を繰り返す"
   ]
  },
  {
   "cell_type": "code",
   "execution_count": 8,
   "id": "4dd58fa2",
   "metadata": {},
   "outputs": [
    {
     "name": "stdout",
     "output_type": "stream",
     "text": [
      "\n",
      "=== First Training ===\n",
      "\n",
      "Epoch 1/1000: Train Loss: 0.0298, Train Acc: 0.0929, Val Loss: 0.0298, Val Acc: 0.1714\n",
      "Epoch 101/1000: Train Loss: 0.0014, Train Acc: 1.0000, Val Loss: 0.0107, Val Acc: 0.7000\n",
      "Epoch 201/1000: Train Loss: 0.0006, Train Acc: 1.0000, Val Loss: 0.0095, Val Acc: 0.7429\n",
      "Epoch 301/1000: Train Loss: 0.0002, Train Acc: 1.0000, Val Loss: 0.0090, Val Acc: 0.7571\n",
      "Epoch 401/1000: Train Loss: 0.0002, Train Acc: 1.0000, Val Loss: 0.0087, Val Acc: 0.7714\n",
      "Epoch 501/1000: Train Loss: 0.0002, Train Acc: 1.0000, Val Loss: 0.0086, Val Acc: 0.7714\n",
      "Epoch 601/1000: Train Loss: 0.0002, Train Acc: 1.0000, Val Loss: 0.0084, Val Acc: 0.7714\n",
      "Epoch 701/1000: Train Loss: 0.0001, Train Acc: 1.0000, Val Loss: 0.0083, Val Acc: 0.7714\n",
      "Epoch 801/1000: Train Loss: 0.0001, Train Acc: 1.0000, Val Loss: 0.0082, Val Acc: 0.7714\n",
      "Epoch 901/1000: Train Loss: 0.0001, Train Acc: 1.0000, Val Loss: 0.0082, Val Acc: 0.7857\n"
     ]
    },
    {
     "ename": "KeyboardInterrupt",
     "evalue": "",
     "output_type": "error",
     "traceback": [
      "\u001b[0;31m---------------------------------------------------------------------------\u001b[0m",
      "\u001b[0;31mKeyboardInterrupt\u001b[0m                         Traceback (most recent call last)",
      "Cell \u001b[0;32mIn[8], line 3\u001b[0m\n\u001b[1;32m      1\u001b[0m \u001b[38;5;66;03m# 0. 初期トレーニング\u001b[39;00m\n\u001b[1;32m      2\u001b[0m \u001b[38;5;28mprint\u001b[39m(\u001b[38;5;124mf\u001b[39m\u001b[38;5;124m\"\u001b[39m\u001b[38;5;130;01m\\n\u001b[39;00m\u001b[38;5;124m=== First Training ===\u001b[39m\u001b[38;5;130;01m\\n\u001b[39;00m\u001b[38;5;124m\"\u001b[39m)\n\u001b[0;32m----> 3\u001b[0m history \u001b[38;5;241m=\u001b[39m \u001b[43mfit\u001b[49m\u001b[43m(\u001b[49m\n\u001b[1;32m      4\u001b[0m \u001b[43m    \u001b[49m\u001b[43mnet\u001b[49m\u001b[38;5;241;43m=\u001b[39;49m\u001b[43mnet\u001b[49m\u001b[43m,\u001b[49m\n\u001b[1;32m      5\u001b[0m \u001b[43m    \u001b[49m\u001b[43moptimizer\u001b[49m\u001b[38;5;241;43m=\u001b[39;49m\u001b[43moptimizer\u001b[49m\u001b[43m,\u001b[49m\n\u001b[1;32m      6\u001b[0m \u001b[43m    \u001b[49m\u001b[43mcriterion\u001b[49m\u001b[38;5;241;43m=\u001b[39;49m\u001b[43mcriterion\u001b[49m\u001b[43m,\u001b[49m\n\u001b[1;32m      7\u001b[0m \u001b[43m    \u001b[49m\u001b[43mnum_epochs\u001b[49m\u001b[38;5;241;43m=\u001b[39;49m\u001b[38;5;241;43m1000\u001b[39;49m\u001b[43m,\u001b[49m\n\u001b[1;32m      8\u001b[0m \u001b[43m    \u001b[49m\u001b[43mtrain_loader\u001b[49m\u001b[38;5;241;43m=\u001b[39;49m\u001b[43mtrain_loader\u001b[49m\u001b[43m,\u001b[49m\n\u001b[1;32m      9\u001b[0m \u001b[43m    \u001b[49m\u001b[43mtest_loader\u001b[49m\u001b[38;5;241;43m=\u001b[39;49m\u001b[43mval_loader\u001b[49m\u001b[43m,\u001b[49m\n\u001b[1;32m     10\u001b[0m \u001b[43m    \u001b[49m\u001b[43mdevice\u001b[49m\u001b[38;5;241;43m=\u001b[39;49m\u001b[43mdevice\u001b[49m\u001b[43m,\u001b[49m\n\u001b[1;32m     11\u001b[0m \u001b[43m    \u001b[49m\u001b[43mhistory\u001b[49m\u001b[38;5;241;43m=\u001b[39;49m\u001b[43mhistory\u001b[49m\n\u001b[1;32m     12\u001b[0m \u001b[43m)\u001b[49m\n\u001b[1;32m     14\u001b[0m \u001b[38;5;28;01mfor\u001b[39;00m i \u001b[38;5;129;01min\u001b[39;00m \u001b[38;5;28mrange\u001b[39m(num_pseudo_labeling):\n\u001b[1;32m     15\u001b[0m     \u001b[38;5;28mprint\u001b[39m(\u001b[38;5;124mf\u001b[39m\u001b[38;5;124m\"\u001b[39m\u001b[38;5;130;01m\\n\u001b[39;00m\u001b[38;5;124m=== \u001b[39m\u001b[38;5;124m\"\u001b[39m, i\u001b[38;5;241m+\u001b[39m\u001b[38;5;241m1\u001b[39m ,\u001b[38;5;124m\"\u001b[39m\u001b[38;5;124m Retraining ===\u001b[39m\u001b[38;5;130;01m\\n\u001b[39;00m\u001b[38;5;124m\"\u001b[39m)\n",
      "File \u001b[0;32m~/Desktop/university/irie-project/code/utils/train.py:40\u001b[0m, in \u001b[0;36mfit\u001b[0;34m(net, optimizer, criterion, num_epochs, train_loader, test_loader, device, history)\u001b[0m\n\u001b[1;32m     38\u001b[0m loss\u001b[38;5;241m.\u001b[39mbackward()\n\u001b[1;32m     39\u001b[0m optimizer\u001b[38;5;241m.\u001b[39mstep()\n\u001b[0;32m---> 40\u001b[0m train_loss \u001b[38;5;241m+\u001b[39m\u001b[38;5;241m=\u001b[39m \u001b[43mloss\u001b[49m\u001b[38;5;241;43m.\u001b[39;49m\u001b[43mitem\u001b[49m\u001b[43m(\u001b[49m\u001b[43m)\u001b[49m\n\u001b[1;32m     41\u001b[0m _, preds \u001b[38;5;241m=\u001b[39m outputs\u001b[38;5;241m.\u001b[39mmax(\u001b[38;5;241m1\u001b[39m)\n\u001b[1;32m     42\u001b[0m train_acc \u001b[38;5;241m+\u001b[39m\u001b[38;5;241m=\u001b[39m (preds \u001b[38;5;241m==\u001b[39m labels)\u001b[38;5;241m.\u001b[39msum()\u001b[38;5;241m.\u001b[39mitem()\n",
      "\u001b[0;31mKeyboardInterrupt\u001b[0m: "
     ]
    }
   ],
   "source": [
    "# 0. 初期トレーニング\n",
    "print(f\"\\n=== First Training ===\\n\")\n",
    "history = fit(\n",
    "    net=net,\n",
    "    optimizer=optimizer,\n",
    "    criterion=criterion,\n",
    "    num_epochs=1000,\n",
    "    train_loader=train_loader,\n",
    "    test_loader=val_loader,\n",
    "    device=device,\n",
    "    history=history\n",
    ")\n",
    "\n",
    "for i in range(num_pseudo_labeling):\n",
    "    print(f\"\\n=== \", i+1 ,\" Retraining ===\\n\")\n",
    "    # 1. 擬似ラベルの生成\n",
    "    pseudo_labels = generate_pseudo_labels(net, unlabeled_loader, device)\n",
    "\n",
    "    # 2. 擬似ラベル付きデータセットを作成\n",
    "    pseudo_labeled_dataset = MyDataset(X_trainu_reshaped, pseudo_labels.numpy(), type='unlabeled')\n",
    "\n",
    "    # 3. 新しいデータローダーを作成\n",
    "    pseudo_labeled_loader = DataLoader(pseudo_labeled_dataset, batch_size=batch_size, shuffle=True)\n",
    "\n",
    "    # 4. 再トレーニングを実行\n",
    "    history = fit_self_train(\n",
    "        net=net,\n",
    "        optimizer=optimizer,\n",
    "        criterion=criterion,\n",
    "        num_epochs=num_epochs,\n",
    "        train_loader=train_loader,\n",
    "        unlabeled_loader=pseudo_labeled_loader,\n",
    "        test_loader=val_loader,\n",
    "        device=device,\n",
    "        history=history,\n",
    "        alpha_init=None\n",
    "    )"
   ]
  },
  {
   "cell_type": "code",
   "execution_count": null,
   "id": "721e4a1d",
   "metadata": {},
   "outputs": [],
   "source": [
    "# 結果確認\n",
    "evaluate_history(history)"
   ]
  },
  {
   "cell_type": "markdown",
   "id": "f8d7b9c7",
   "metadata": {},
   "source": [
    "### モデルの保存"
   ]
  },
  {
   "cell_type": "code",
   "execution_count": null,
   "id": "afa309a7",
   "metadata": {},
   "outputs": [],
   "source": [
    "path = 'model.pth'\n",
    "torch.save(net.state_dict(), path)"
   ]
  }
 ],
 "metadata": {
  "kernelspec": {
   "display_name": "irie",
   "language": "python",
   "name": "python3"
  },
  "language_info": {
   "codemirror_mode": {
    "name": "ipython",
    "version": 3
   },
   "file_extension": ".py",
   "mimetype": "text/x-python",
   "name": "python",
   "nbconvert_exporter": "python",
   "pygments_lexer": "ipython3",
   "version": "3.10.15"
  }
 },
 "nbformat": 4,
 "nbformat_minor": 5
}
