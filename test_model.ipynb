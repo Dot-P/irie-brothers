{
 "cells": [
  {
   "cell_type": "markdown",
   "metadata": {},
   "source": [
    "### ライブラリのインポート"
   ]
  },
  {
   "cell_type": "code",
   "execution_count": 1,
   "metadata": {},
   "outputs": [],
   "source": [
    "from utils.evaluate import evaluate_model, get_predictions\n",
    "from utils.dataset import MyDataset\n",
    "\n",
    "import os\n",
    "import glob\n",
    "import numpy as np\n",
    "from PIL import Image\n",
    "from sklearn.metrics import accuracy_score\n",
    "\n",
    "import torch\n",
    "from torch.utils.data import DataLoader\n",
    "from torchvision import models\n",
    "import torch.nn as nn"
   ]
  },
  {
   "cell_type": "markdown",
   "metadata": {},
   "source": [
    "### もともと用意されている関数"
   ]
  },
  {
   "cell_type": "code",
   "execution_count": 2,
   "metadata": {},
   "outputs": [],
   "source": [
    "#-*-*-*-*-*-*-*-*-*-*-*-*-*-*-*-*-*-*-*-*-*-*-*-*-*-*-*-*-*-*-*-*-*-*-*-*-*-*-*-*-*-*-*-*-*-#\n",
    "#                               このセルは変更を禁止します                                  #\n",
    "#-*-*-*-*-*-*-*-*-*-*-*-*-*-*-*-*-*-*-*-*-*-*-*-*-*-*-*-*-*-*-*-*-*-*-*-*-*-*-*-*-*-*-*-*-*-#\n",
    "#-------------------------------------------------------------------------------------------#\n",
    "#-                                  データ読み込み関数                                     -#\n",
    "#-------------------------------------------------------------------------------------------#\n",
    "def load_data_(root_dir='../data/gw_dataset'):\n",
    "    \"\"\"\n",
    "    グループワーク用　学習用データ読み込み関数\n",
    "\n",
    "    Args:\n",
    "        * root_dir: 配布したgw_datasetへのパスを指定する (default: '../data/gw_dataset')\n",
    "        \n",
    "    Output:\n",
    "        * X_train:  正解ラベル付き学習用画像   shape: (140x150,528)\n",
    "                    1行あたり、画像1枚の画素値を格納したnp.array\n",
    "                    画像140枚、各画像224x224=150,528次元のベクトル\n",
    "                    \n",
    "        * y_train:  X_trainの正解ラベル        shape: (140, )\n",
    "                    クラス数は7　140枚分のクラスラベル（0～6）の整数が格納されている\n",
    "        \n",
    "        * X_trainu: 正解ラベルなし学習用画像   shape: (210x150,528)\n",
    "                    形式はX_trainと同じ\n",
    "                    \n",
    "        * X_val:   正解ラベル付き検証用画像   shape: (70x150,528)\n",
    "                    形式はX_trainと同じ\n",
    "                    \n",
    "        * y_val:    X_valの正解ラベル          shape: (70, )\n",
    "                    形式はy_valと同じ                             \n",
    "    \"\"\"\n",
    "    \n",
    "    #----------------- 学習用データの読み込み -------------------#\n",
    "    train_paths = sorted(glob.glob(os.path.join(root_dir, \"train\", \"*.png\")))\n",
    "    \n",
    "    X_train = np.array([np.array(Image.open(p)).astype(np.float32).ravel() for p in train_paths])\n",
    "    y_train = np.load(os.path.join(root_dir, \"y_train.npy\"))\n",
    "\n",
    "    #------------ ラベルなし学習用データの読み込み --------------#\n",
    "    trainu_paths = sorted(glob.glob(os.path.join(root_dir, \"train-u\", \"*.png\")))\n",
    "    X_trainu = np.array([np.array(Image.open(p)).astype(np.float32).ravel() for p in trainu_paths])\n",
    "    \n",
    "    #----------------- 検証用データの読み込み -------------------#\n",
    "    val_paths = sorted(glob.glob(os.path.join(root_dir,\"val\", \"*.png\")))\n",
    "    X_val = np.array([np.array(Image.open(p)).astype(np.float32).ravel() for p in val_paths])\n",
    "    y_val = np.load(os.path.join(root_dir, \"y_val.npy\"))\n",
    "\n",
    "    return X_train, y_train, X_trainu, X_val, y_val"
   ]
  },
  {
   "cell_type": "code",
   "execution_count": 3,
   "metadata": {},
   "outputs": [
    {
     "name": "stdout",
     "output_type": "stream",
     "text": [
      "(140, 150528) (140,) (210, 150528) (70, 150528) (70,)\n"
     ]
    }
   ],
   "source": [
    "### データ読み込み関数の実行\n",
    "X_train, y_train, X_trainu, X_val, y_val = load_data_() # すべて必要な場合\n",
    "print(X_train.shape, y_train.shape, X_trainu.shape, X_val.shape, y_val.shape)\n",
    "\n",
    "# X_train, y_train, _, X_val, y_val = load_data_() # いらないデータがある場合\n",
    "# print(X_train.shape, y_train.shape, X_val.shape, y_val.shape)"
   ]
  },
  {
   "cell_type": "code",
   "execution_count": 4,
   "metadata": {},
   "outputs": [],
   "source": [
    "#-*-*-*-*-*-*-*-*-*-*-*-*-*-*-*-*-*-*-*-*-*-*-*-*-*-*-*-*-*-*-*-*-*-*-*-*-*-*-*-*-*-*-*-*-*-#\n",
    "#                               このセルは変更を禁止します                                  #\n",
    "#-*-*-*-*-*-*-*-*-*-*-*-*-*-*-*-*-*-*-*-*-*-*-*-*-*-*-*-*-*-*-*-*-*-*-*-*-*-*-*-*-*-*-*-*-*-#\n",
    "#-------------------------------------------------------------------------------------------#\n",
    "#-                                       評価関数                                          -#\n",
    "#-------------------------------------------------------------------------------------------#\n",
    "\n",
    "def eval_(y_pred):\n",
    "    \"\"\"\n",
    "    グループワーク用　評価関数\n",
    "    実行する前にy_valがglobalスコープに読み込まれている必要がある\n",
    "\n",
    "    Args:\n",
    "        * y_pred:   識別結果　y_valと同形式・同shapeでなければならない\n",
    "    \"\"\"\n",
    "\n",
    "    try:\n",
    "        y_val\n",
    "    except NameError as e:\n",
    "        print(\"y_valが読み込まれていません\")\n",
    "        \n",
    "    assert y_pred.shape == y_val.shape, 'y_predとy_valのサイズが一致しません'\n",
    "    \n",
    "    print(\"valデータでの識別精度:{0:.3f}\".format(accuracy_score(y_val, y_pred)))"
   ]
  },
  {
   "cell_type": "markdown",
   "metadata": {},
   "source": [
    "### モデルのロード"
   ]
  },
  {
   "cell_type": "code",
   "execution_count": 5,
   "metadata": {},
   "outputs": [
    {
     "name": "stderr",
     "output_type": "stream",
     "text": [
      "/home/naoki/anaconda3/envs/irie/lib/python3.10/site-packages/torchvision/models/_utils.py:208: UserWarning: The parameter 'pretrained' is deprecated since 0.13 and may be removed in the future, please use 'weights' instead.\n",
      "  warnings.warn(\n",
      "/home/naoki/anaconda3/envs/irie/lib/python3.10/site-packages/torchvision/models/_utils.py:223: UserWarning: Arguments other than a weight enum or `None` for 'weights' are deprecated since 0.13 and may be removed in the future. The current behavior is equivalent to passing `weights=None`.\n",
      "  warnings.warn(msg)\n",
      "/tmp/ipykernel_77929/1327467021.py:8: FutureWarning: You are using `torch.load` with `weights_only=False` (the current default value), which uses the default pickle module implicitly. It is possible to construct malicious pickle data which will execute arbitrary code during unpickling (See https://github.com/pytorch/pytorch/blob/main/SECURITY.md#untrusted-models for more details). In a future release, the default value for `weights_only` will be flipped to `True`. This limits the functions that could be executed during unpickling. Arbitrary objects will no longer be allowed to be loaded via this mode unless they are explicitly allowlisted by the user via `torch.serialization.add_safe_globals`. We recommend you start setting `weights_only=True` for any use case where you don't have full control of the loaded file. Please open an issue on GitHub for any issues related to this experimental feature.\n",
      "  net.load_state_dict(torch.load(path))\n"
     ]
    },
    {
     "data": {
      "text/plain": [
       "<All keys matched successfully>"
      ]
     },
     "execution_count": 5,
     "metadata": {},
     "output_type": "execute_result"
    }
   ],
   "source": [
    "path = \"model.pth\"\n",
    "device = torch.device(\"cuda:0\" if torch.cuda.is_available() else \"cpu\")\n",
    "\n",
    "net = models.resnet18(pretrained=False)\n",
    "net.fc = nn.Linear(in_features=net.fc.in_features, out_features=7) \n",
    "net = net.to(device) \n",
    "\n",
    "net.load_state_dict(torch.load(path))  "
   ]
  },
  {
   "cell_type": "markdown",
   "metadata": {},
   "source": [
    "### データの用意"
   ]
  },
  {
   "cell_type": "code",
   "execution_count": 6,
   "metadata": {},
   "outputs": [],
   "source": [
    "batch_size = 70\n",
    "X_val_reshaped = X_val.reshape(-1, 224, 224, 3)\n",
    "val_data = MyDataset(X_val_reshaped, y_val, type=\"val\")\n",
    "val_loader = DataLoader(val_data, batch_size=batch_size, shuffle=False)"
   ]
  },
  {
   "cell_type": "markdown",
   "metadata": {},
   "source": [
    "### 性能評価"
   ]
  },
  {
   "cell_type": "code",
   "execution_count": 7,
   "metadata": {},
   "outputs": [
    {
     "name": "stdout",
     "output_type": "stream",
     "text": [
      "valデータでの識別精度:0.843\n"
     ]
    }
   ],
   "source": [
    "y_pred, y_prob = get_predictions(net, val_loader, device)\n",
    "\n",
    "eval_(y_pred)"
   ]
  },
  {
   "cell_type": "code",
   "execution_count": 8,
   "metadata": {},
   "outputs": [
    {
     "data": {
      "image/png": "[encoded data removed]",
      "text/plain": [
       "<Figure size 640x480 with 2 Axes>"
      ]
     },
     "metadata": {},
     "output_type": "display_data"
    }
   ],
   "source": [
    "evaluate_model(y_val=y_val, y_pred=y_pred)"
   ]
  }
 ],
 "metadata": {
  "kernelspec": {
   "display_name": "irie",
   "language": "python",
   "name": "python3"
  },
  "language_info": {
   "codemirror_mode": {
    "name": "ipython",
    "version": 3
   },
   "file_extension": ".py",
   "mimetype": "text/x-python",
   "name": "python",
   "nbconvert_exporter": "python",
   "pygments_lexer": "ipython3",
   "version": "3.10.15"
  }
 },
 "nbformat": 4,
 "nbformat_minor": 2
}
