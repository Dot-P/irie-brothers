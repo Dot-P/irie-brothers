{
 "cells": [
  {
   "cell_type": "markdown",
   "metadata": {},
   "source": [
    "### ライブラリのインポート"
   ]
  },
  {
   "cell_type": "code",
   "execution_count": 1,
   "metadata": {},
   "outputs": [],
   "source": [
    "from utils.evaluate import evaluate_model, get_predictions, miss_images, select_predictions\n",
    "from utils.dataset import MyDataset\n",
    "from utils.model import get_model\n",
    "\n",
    "import os\n",
    "import glob\n",
    "import numpy as np\n",
    "from PIL import Image\n",
    "from sklearn.metrics import accuracy_score\n",
    "\n",
    "import torch\n",
    "from torch.utils.data import DataLoader\n",
    "import torch.nn as nn"
   ]
  },
  {
   "cell_type": "markdown",
   "metadata": {},
   "source": [
    "### もともと用意されている関数"
   ]
  },
  {
   "cell_type": "code",
   "execution_count": 2,
   "metadata": {},
   "outputs": [],
   "source": [
    "#-*-*-*-*-*-*-*-*-*-*-*-*-*-*-*-*-*-*-*-*-*-*-*-*-*-*-*-*-*-*-*-*-*-*-*-*-*-*-*-*-*-*-*-*-*-#\n",
    "#                               このセルは変更を禁止します                                  #\n",
    "#-*-*-*-*-*-*-*-*-*-*-*-*-*-*-*-*-*-*-*-*-*-*-*-*-*-*-*-*-*-*-*-*-*-*-*-*-*-*-*-*-*-*-*-*-*-#\n",
    "#-------------------------------------------------------------------------------------------#\n",
    "#-                                  データ読み込み関数                                     -#\n",
    "#-------------------------------------------------------------------------------------------#\n",
    "def load_data_(root_dir='../data/gw_dataset'):\n",
    "    \"\"\"\n",
    "    グループワーク用　学習用データ読み込み関数\n",
    "\n",
    "    Args:\n",
    "        * root_dir: 配布したgw_datasetへのパスを指定する (default: '../data/gw_dataset')\n",
    "        \n",
    "    Output:\n",
    "        * X_train:  正解ラベル付き学習用画像   shape: (140x150,528)\n",
    "                    1行あたり、画像1枚の画素値を格納したnp.array\n",
    "                    画像140枚、各画像224x224=150,528次元のベクトル\n",
    "                    \n",
    "        * y_train:  X_trainの正解ラベル        shape: (140, )\n",
    "                    クラス数は7　140枚分のクラスラベル（0～6）の整数が格納されている\n",
    "        \n",
    "        * X_trainu: 正解ラベルなし学習用画像   shape: (210x150,528)\n",
    "                    形式はX_trainと同じ\n",
    "                    \n",
    "        * X_val:   正解ラベル付き検証用画像   shape: (70x150,528)\n",
    "                    形式はX_trainと同じ\n",
    "                    \n",
    "        * y_val:    X_valの正解ラベル          shape: (70, )\n",
    "                    形式はy_valと同じ                             \n",
    "    \"\"\"\n",
    "    \n",
    "    #----------------- 学習用データの読み込み -------------------#\n",
    "    train_paths = sorted(glob.glob(os.path.join(root_dir, \"train\", \"*.png\")))\n",
    "    \n",
    "    X_train = np.array([np.array(Image.open(p)).astype(np.float32).ravel() for p in train_paths])\n",
    "    y_train = np.load(os.path.join(root_dir, \"y_train.npy\"))\n",
    "\n",
    "    #------------ ラベルなし学習用データの読み込み --------------#\n",
    "    trainu_paths = sorted(glob.glob(os.path.join(root_dir, \"train-u\", \"*.png\")))\n",
    "    X_trainu = np.array([np.array(Image.open(p)).astype(np.float32).ravel() for p in trainu_paths])\n",
    "    \n",
    "    #----------------- 検証用データの読み込み -------------------#\n",
    "    val_paths = sorted(glob.glob(os.path.join(root_dir,\"val\", \"*.png\")))\n",
    "    X_val = np.array([np.array(Image.open(p)).astype(np.float32).ravel() for p in val_paths])\n",
    "    y_val = np.load(os.path.join(root_dir, \"y_val.npy\"))\n",
    "\n",
    "    return X_train, y_train, X_trainu, X_val, y_val"
   ]
  },
  {
   "cell_type": "code",
   "execution_count": 3,
   "metadata": {},
   "outputs": [
    {
     "name": "stdout",
     "output_type": "stream",
     "text": [
      "(140, 150528) (140,) (210, 150528) (70, 150528) (70,)\n"
     ]
    }
   ],
   "source": [
    "### データ読み込み関数の実行\n",
    "X_train, y_train, X_trainu, X_val, y_val = load_data_() # すべて必要な場合\n",
    "print(X_train.shape, y_train.shape, X_trainu.shape, X_val.shape, y_val.shape)\n",
    "\n",
    "# X_train, y_train, _, X_val, y_val = load_data_() # いらないデータがある場合\n",
    "# print(X_train.shape, y_train.shape, X_val.shape, y_val.shape)"
   ]
  },
  {
   "cell_type": "code",
   "execution_count": 4,
   "metadata": {},
   "outputs": [],
   "source": [
    "#-*-*-*-*-*-*-*-*-*-*-*-*-*-*-*-*-*-*-*-*-*-*-*-*-*-*-*-*-*-*-*-*-*-*-*-*-*-*-*-*-*-*-*-*-*-#\n",
    "#                               このセルは変更を禁止します                                  #\n",
    "#-*-*-*-*-*-*-*-*-*-*-*-*-*-*-*-*-*-*-*-*-*-*-*-*-*-*-*-*-*-*-*-*-*-*-*-*-*-*-*-*-*-*-*-*-*-#\n",
    "#-------------------------------------------------------------------------------------------#\n",
    "#-                                       評価関数                                          -#\n",
    "#-------------------------------------------------------------------------------------------#\n",
    "\n",
    "def eval_(y_pred):\n",
    "    \"\"\"\n",
    "    グループワーク用　評価関数\n",
    "    実行する前にy_valがglobalスコープに読み込まれている必要がある\n",
    "\n",
    "    Args:\n",
    "        * y_pred:   識別結果　y_valと同形式・同shapeでなければならない\n",
    "    \"\"\"\n",
    "\n",
    "    try:\n",
    "        y_val\n",
    "    except NameError as e:\n",
    "        print(\"y_valが読み込まれていません\")\n",
    "        \n",
    "    assert y_pred.shape == y_val.shape, 'y_predとy_valのサイズが一致しません'\n",
    "    \n",
    "    print(\"valデータでの識別精度:{0:.3f}\".format(accuracy_score(y_val, y_pred)))"
   ]
  },
  {
   "cell_type": "markdown",
   "metadata": {},
   "source": [
    "### データの用意"
   ]
  },
  {
   "cell_type": "code",
   "execution_count": 5,
   "metadata": {},
   "outputs": [],
   "source": [
    "batch_size = 70\n",
    "X_val_reshaped = X_val.reshape(-1, 224, 224, 3)\n",
    "val_data = MyDataset(X_val_reshaped, y_val, type=\"val\")\n",
    "val_loader = DataLoader(val_data, batch_size=batch_size, shuffle=False)"
   ]
  },
  {
   "cell_type": "code",
   "execution_count": 6,
   "metadata": {},
   "outputs": [
    {
     "name": "stdout",
     "output_type": "stream",
     "text": [
      "SwinTransformer(\n",
      "  (features): Sequential(\n",
      "    (0): Sequential(\n",
      "      (0): Conv2d(3, 96, kernel_size=(4, 4), stride=(4, 4))\n",
      "      (1): Permute()\n",
      "      (2): LayerNorm((96,), eps=1e-05, elementwise_affine=True)\n",
      "    )\n",
      "    (1): Sequential(\n",
      "      (0): SwinTransformerBlock(\n",
      "        (norm1): LayerNorm((96,), eps=1e-05, elementwise_affine=True)\n",
      "        (attn): ShiftedWindowAttention(\n",
      "          (qkv): Linear(in_features=96, out_features=288, bias=True)\n",
      "          (proj): Linear(in_features=96, out_features=96, bias=True)\n",
      "        )\n",
      "        (stochastic_depth): StochasticDepth(p=0.0, mode=row)\n",
      "        (norm2): LayerNorm((96,), eps=1e-05, elementwise_affine=True)\n",
      "        (mlp): MLP(\n",
      "          (0): Linear(in_features=96, out_features=384, bias=True)\n",
      "          (1): GELU(approximate='none')\n",
      "          (2): Dropout(p=0.0, inplace=False)\n",
      "          (3): Linear(in_features=384, out_features=96, bias=True)\n",
      "          (4): Dropout(p=0.0, inplace=False)\n",
      "        )\n",
      "      )\n",
      "      (1): SwinTransformerBlock(\n",
      "        (norm1): LayerNorm((96,), eps=1e-05, elementwise_affine=True)\n",
      "        (attn): ShiftedWindowAttention(\n",
      "          (qkv): Linear(in_features=96, out_features=288, bias=True)\n",
      "          (proj): Linear(in_features=96, out_features=96, bias=True)\n",
      "        )\n",
      "        (stochastic_depth): StochasticDepth(p=0.018181818181818184, mode=row)\n",
      "        (norm2): LayerNorm((96,), eps=1e-05, elementwise_affine=True)\n",
      "        (mlp): MLP(\n",
      "          (0): Linear(in_features=96, out_features=384, bias=True)\n",
      "          (1): GELU(approximate='none')\n",
      "          (2): Dropout(p=0.0, inplace=False)\n",
      "          (3): Linear(in_features=384, out_features=96, bias=True)\n",
      "          (4): Dropout(p=0.0, inplace=False)\n",
      "        )\n",
      "      )\n",
      "    )\n",
      "    (2): PatchMerging(\n",
      "      (reduction): Linear(in_features=384, out_features=192, bias=False)\n",
      "      (norm): LayerNorm((384,), eps=1e-05, elementwise_affine=True)\n",
      "    )\n",
      "    (3): Sequential(\n",
      "      (0): SwinTransformerBlock(\n",
      "        (norm1): LayerNorm((192,), eps=1e-05, elementwise_affine=True)\n",
      "        (attn): ShiftedWindowAttention(\n",
      "          (qkv): Linear(in_features=192, out_features=576, bias=True)\n",
      "          (proj): Linear(in_features=192, out_features=192, bias=True)\n",
      "        )\n",
      "        (stochastic_depth): StochasticDepth(p=0.03636363636363637, mode=row)\n",
      "        (norm2): LayerNorm((192,), eps=1e-05, elementwise_affine=True)\n",
      "        (mlp): MLP(\n",
      "          (0): Linear(in_features=192, out_features=768, bias=True)\n",
      "          (1): GELU(approximate='none')\n",
      "          (2): Dropout(p=0.0, inplace=False)\n",
      "          (3): Linear(in_features=768, out_features=192, bias=True)\n",
      "          (4): Dropout(p=0.0, inplace=False)\n",
      "        )\n",
      "      )\n",
      "      (1): SwinTransformerBlock(\n",
      "        (norm1): LayerNorm((192,), eps=1e-05, elementwise_affine=True)\n",
      "        (attn): ShiftedWindowAttention(\n",
      "          (qkv): Linear(in_features=192, out_features=576, bias=True)\n",
      "          (proj): Linear(in_features=192, out_features=192, bias=True)\n",
      "        )\n",
      "        (stochastic_depth): StochasticDepth(p=0.05454545454545456, mode=row)\n",
      "        (norm2): LayerNorm((192,), eps=1e-05, elementwise_affine=True)\n",
      "        (mlp): MLP(\n",
      "          (0): Linear(in_features=192, out_features=768, bias=True)\n",
      "          (1): GELU(approximate='none')\n",
      "          (2): Dropout(p=0.0, inplace=False)\n",
      "          (3): Linear(in_features=768, out_features=192, bias=True)\n",
      "          (4): Dropout(p=0.0, inplace=False)\n",
      "        )\n",
      "      )\n",
      "    )\n",
      "    (4): PatchMerging(\n",
      "      (reduction): Linear(in_features=768, out_features=384, bias=False)\n",
      "      (norm): LayerNorm((768,), eps=1e-05, elementwise_affine=True)\n",
      "    )\n",
      "    (5): Sequential(\n",
      "      (0): SwinTransformerBlock(\n",
      "        (norm1): LayerNorm((384,), eps=1e-05, elementwise_affine=True)\n",
      "        (attn): ShiftedWindowAttention(\n",
      "          (qkv): Linear(in_features=384, out_features=1152, bias=True)\n",
      "          (proj): Linear(in_features=384, out_features=384, bias=True)\n",
      "        )\n",
      "        (stochastic_depth): StochasticDepth(p=0.07272727272727274, mode=row)\n",
      "        (norm2): LayerNorm((384,), eps=1e-05, elementwise_affine=True)\n",
      "        (mlp): MLP(\n",
      "          (0): Linear(in_features=384, out_features=1536, bias=True)\n",
      "          (1): GELU(approximate='none')\n",
      "          (2): Dropout(p=0.0, inplace=False)\n",
      "          (3): Linear(in_features=1536, out_features=384, bias=True)\n",
      "          (4): Dropout(p=0.0, inplace=False)\n",
      "        )\n",
      "      )\n",
      "      (1): SwinTransformerBlock(\n",
      "        (norm1): LayerNorm((384,), eps=1e-05, elementwise_affine=True)\n",
      "        (attn): ShiftedWindowAttention(\n",
      "          (qkv): Linear(in_features=384, out_features=1152, bias=True)\n",
      "          (proj): Linear(in_features=384, out_features=384, bias=True)\n",
      "        )\n",
      "        (stochastic_depth): StochasticDepth(p=0.09090909090909091, mode=row)\n",
      "        (norm2): LayerNorm((384,), eps=1e-05, elementwise_affine=True)\n",
      "        (mlp): MLP(\n",
      "          (0): Linear(in_features=384, out_features=1536, bias=True)\n",
      "          (1): GELU(approximate='none')\n",
      "          (2): Dropout(p=0.0, inplace=False)\n",
      "          (3): Linear(in_features=1536, out_features=384, bias=True)\n",
      "          (4): Dropout(p=0.0, inplace=False)\n",
      "        )\n",
      "      )\n",
      "      (2): SwinTransformerBlock(\n",
      "        (norm1): LayerNorm((384,), eps=1e-05, elementwise_affine=True)\n",
      "        (attn): ShiftedWindowAttention(\n",
      "          (qkv): Linear(in_features=384, out_features=1152, bias=True)\n",
      "          (proj): Linear(in_features=384, out_features=384, bias=True)\n",
      "        )\n",
      "        (stochastic_depth): StochasticDepth(p=0.10909090909090911, mode=row)\n",
      "        (norm2): LayerNorm((384,), eps=1e-05, elementwise_affine=True)\n",
      "        (mlp): MLP(\n",
      "          (0): Linear(in_features=384, out_features=1536, bias=True)\n",
      "          (1): GELU(approximate='none')\n",
      "          (2): Dropout(p=0.0, inplace=False)\n",
      "          (3): Linear(in_features=1536, out_features=384, bias=True)\n",
      "          (4): Dropout(p=0.0, inplace=False)\n",
      "        )\n",
      "      )\n",
      "      (3): SwinTransformerBlock(\n",
      "        (norm1): LayerNorm((384,), eps=1e-05, elementwise_affine=True)\n",
      "        (attn): ShiftedWindowAttention(\n",
      "          (qkv): Linear(in_features=384, out_features=1152, bias=True)\n",
      "          (proj): Linear(in_features=384, out_features=384, bias=True)\n",
      "        )\n",
      "        (stochastic_depth): StochasticDepth(p=0.1272727272727273, mode=row)\n",
      "        (norm2): LayerNorm((384,), eps=1e-05, elementwise_affine=True)\n",
      "        (mlp): MLP(\n",
      "          (0): Linear(in_features=384, out_features=1536, bias=True)\n",
      "          (1): GELU(approximate='none')\n",
      "          (2): Dropout(p=0.0, inplace=False)\n",
      "          (3): Linear(in_features=1536, out_features=384, bias=True)\n",
      "          (4): Dropout(p=0.0, inplace=False)\n",
      "        )\n",
      "      )\n",
      "      (4): SwinTransformerBlock(\n",
      "        (norm1): LayerNorm((384,), eps=1e-05, elementwise_affine=True)\n",
      "        (attn): ShiftedWindowAttention(\n",
      "          (qkv): Linear(in_features=384, out_features=1152, bias=True)\n",
      "          (proj): Linear(in_features=384, out_features=384, bias=True)\n",
      "        )\n",
      "        (stochastic_depth): StochasticDepth(p=0.14545454545454548, mode=row)\n",
      "        (norm2): LayerNorm((384,), eps=1e-05, elementwise_affine=True)\n",
      "        (mlp): MLP(\n",
      "          (0): Linear(in_features=384, out_features=1536, bias=True)\n",
      "          (1): GELU(approximate='none')\n",
      "          (2): Dropout(p=0.0, inplace=False)\n",
      "          (3): Linear(in_features=1536, out_features=384, bias=True)\n",
      "          (4): Dropout(p=0.0, inplace=False)\n",
      "        )\n",
      "      )\n",
      "      (5): SwinTransformerBlock(\n",
      "        (norm1): LayerNorm((384,), eps=1e-05, elementwise_affine=True)\n",
      "        (attn): ShiftedWindowAttention(\n",
      "          (qkv): Linear(in_features=384, out_features=1152, bias=True)\n",
      "          (proj): Linear(in_features=384, out_features=384, bias=True)\n",
      "        )\n",
      "        (stochastic_depth): StochasticDepth(p=0.16363636363636364, mode=row)\n",
      "        (norm2): LayerNorm((384,), eps=1e-05, elementwise_affine=True)\n",
      "        (mlp): MLP(\n",
      "          (0): Linear(in_features=384, out_features=1536, bias=True)\n",
      "          (1): GELU(approximate='none')\n",
      "          (2): Dropout(p=0.0, inplace=False)\n",
      "          (3): Linear(in_features=1536, out_features=384, bias=True)\n",
      "          (4): Dropout(p=0.0, inplace=False)\n",
      "        )\n",
      "      )\n",
      "    )\n",
      "    (6): PatchMerging(\n",
      "      (reduction): Linear(in_features=1536, out_features=768, bias=False)\n",
      "      (norm): LayerNorm((1536,), eps=1e-05, elementwise_affine=True)\n",
      "    )\n",
      "    (7): Sequential(\n",
      "      (0): SwinTransformerBlock(\n",
      "        (norm1): LayerNorm((768,), eps=1e-05, elementwise_affine=True)\n",
      "        (attn): ShiftedWindowAttention(\n",
      "          (qkv): Linear(in_features=768, out_features=2304, bias=True)\n",
      "          (proj): Linear(in_features=768, out_features=768, bias=True)\n",
      "        )\n",
      "        (stochastic_depth): StochasticDepth(p=0.18181818181818182, mode=row)\n",
      "        (norm2): LayerNorm((768,), eps=1e-05, elementwise_affine=True)\n",
      "        (mlp): MLP(\n",
      "          (0): Linear(in_features=768, out_features=3072, bias=True)\n",
      "          (1): GELU(approximate='none')\n",
      "          (2): Dropout(p=0.0, inplace=False)\n",
      "          (3): Linear(in_features=3072, out_features=768, bias=True)\n",
      "          (4): Dropout(p=0.0, inplace=False)\n",
      "        )\n",
      "      )\n",
      "      (1): SwinTransformerBlock(\n",
      "        (norm1): LayerNorm((768,), eps=1e-05, elementwise_affine=True)\n",
      "        (attn): ShiftedWindowAttention(\n",
      "          (qkv): Linear(in_features=768, out_features=2304, bias=True)\n",
      "          (proj): Linear(in_features=768, out_features=768, bias=True)\n",
      "        )\n",
      "        (stochastic_depth): StochasticDepth(p=0.2, mode=row)\n",
      "        (norm2): LayerNorm((768,), eps=1e-05, elementwise_affine=True)\n",
      "        (mlp): MLP(\n",
      "          (0): Linear(in_features=768, out_features=3072, bias=True)\n",
      "          (1): GELU(approximate='none')\n",
      "          (2): Dropout(p=0.0, inplace=False)\n",
      "          (3): Linear(in_features=3072, out_features=768, bias=True)\n",
      "          (4): Dropout(p=0.0, inplace=False)\n",
      "        )\n",
      "      )\n",
      "    )\n",
      "  )\n",
      "  (norm): LayerNorm((768,), eps=1e-05, elementwise_affine=True)\n",
      "  (permute): Permute()\n",
      "  (avgpool): AdaptiveAvgPool2d(output_size=1)\n",
      "  (flatten): Flatten(start_dim=1, end_dim=-1)\n",
      "  (head): Linear(in_features=768, out_features=7, bias=True)\n",
      ")\n"
     ]
    }
   ],
   "source": [
    "device = torch.device(\"cuda:0\" if torch.cuda.is_available() else \"cpu\")\n",
    "model_name = \"swin\"\n",
    "num_classes = 7\n",
    "net = get_model(model_name=model_name, num_classes=num_classes)"
   ]
  },
  {
   "cell_type": "markdown",
   "metadata": {},
   "source": [
    "### モデル１"
   ]
  },
  {
   "cell_type": "code",
   "execution_count": 7,
   "metadata": {},
   "outputs": [
    {
     "name": "stdout",
     "output_type": "stream",
     "text": [
      "valデータでの識別精度:1.000\n"
     ]
    }
   ],
   "source": [
    "path1 = \"pi_model.pth\"\n",
    "\n",
    "net1 = net.to(device) \n",
    "if device.type == \"cpu\":\n",
    "    net1.load_state_dict(torch.load(path1, map_location=torch.device(\"cpu\"), weights_only=False))\n",
    "else:\n",
    "    net1.load_state_dict(torch.load(path1, weights_only=False))  \n",
    "y_pred1, y_prob1 = get_predictions(net1, val_loader, device)\n",
    "eval_(y_pred1)"
   ]
  },
  {
   "cell_type": "markdown",
   "metadata": {},
   "source": [
    "### モデル２"
   ]
  },
  {
   "cell_type": "code",
   "execution_count": 8,
   "metadata": {},
   "outputs": [
    {
     "name": "stdout",
     "output_type": "stream",
     "text": [
      "valデータでの識別精度:1.000\n"
     ]
    }
   ],
   "source": [
    "path2 = \"mixmatch.pth\"\n",
    "\n",
    "net2 = net.to(device)\n",
    "if device.type == \"cpu\":\n",
    "    net2.load_state_dict(torch.load(path2, map_location=torch.device(\"cpu\"), weights_only=False))\n",
    "else:\n",
    "    net2.load_state_dict(torch.load(path2, weights_only=False))  \n",
    "y_pred2, y_prob2 = get_predictions(net2, val_loader, device)\n",
    "eval_(y_pred2)"
   ]
  },
  {
   "cell_type": "markdown",
   "metadata": {},
   "source": [
    "## 最終結果"
   ]
  },
  {
   "cell_type": "code",
   "execution_count": 9,
   "metadata": {},
   "outputs": [
    {
     "name": "stdout",
     "output_type": "stream",
     "text": [
      "valデータでの識別精度:1.000\n"
     ]
    }
   ],
   "source": [
    "y_pred, y_prob = select_predictions(y_pred1, y_prob1, y_pred2, y_prob2)\n",
    "\n",
    "eval_(y_pred)"
   ]
  },
  {
   "cell_type": "code",
   "execution_count": 10,
   "metadata": {},
   "outputs": [
    {
     "data": {
      "image/png": "[encoded data removed]",
      "text/plain": [
       "<Figure size 640x480 with 2 Axes>"
      ]
     },
     "metadata": {},
     "output_type": "display_data"
    }
   ],
   "source": [
    "evaluate_model(y_val=y_val, y_pred=y_pred)"
   ]
  },
  {
   "cell_type": "code",
   "execution_count": 11,
   "metadata": {},
   "outputs": [
    {
     "name": "stdout",
     "output_type": "stream",
     "text": [
      "Total misclassified images: 0\n"
     ]
    }
   ],
   "source": [
    "miss_images(X_val, y_val, y_pred, y_prob, root_dir=\"../data/gw_dataset\", num_images_per_fig=5)"
   ]
  }
 ],
 "metadata": {
  "kernelspec": {
   "display_name": "irie",
   "language": "python",
   "name": "python3"
  },
  "language_info": {
   "codemirror_mode": {
    "name": "ipython",
    "version": 3
   },
   "file_extension": ".py",
   "mimetype": "text/x-python",
   "name": "python",
   "nbconvert_exporter": "python",
   "pygments_lexer": "ipython3",
   "version": "3.10.15"
  }
 },
 "nbformat": 4,
 "nbformat_minor": 2
}
