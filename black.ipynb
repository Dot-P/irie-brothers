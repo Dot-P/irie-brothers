{
 "cells": [
  {
   "cell_type": "code",
   "execution_count": 3,
   "metadata": {},
   "outputs": [],
   "source": [
    "import torchvision.transforms as transforms\n",
    "from utils.dataset import RandomFillBackground\n",
    "from PIL import Image\n",
    "\n",
    "# ファイルから画像を読み取る\n",
    "image_path = \"../data/gw_dataset/val/val_0001.png\"  # 入力画像のパス\n",
    "img = Image.open(image_path).convert(\"RGB\")  # RGB形式に変換\n",
    "\n",
    "# 背景塗りつぶしの適用\n",
    "fill_bg = RandomFillBackground(fill_color=(0, 0, 0), p=1.0)  # 必ず適用\n",
    "output_tensor = fill_bg(img)  # PIL.Imageを渡して処理\n",
    "\n",
    "# TensorをPIL形式に変換して保存\n",
    "output_pil = transforms.ToPILImage()(output_tensor)\n",
    "output_pil.save(\"output_image.png\")  # 背景を塗りつぶした画像を保存"
   ]
  }
 ],
 "metadata": {
  "kernelspec": {
   "display_name": "irie",
   "language": "python",
   "name": "python3"
  },
  "language_info": {
   "codemirror_mode": {
    "name": "ipython",
    "version": 3
   },
   "file_extension": ".py",
   "mimetype": "text/x-python",
   "name": "python",
   "nbconvert_exporter": "python",
   "pygments_lexer": "ipython3",
   "version": "3.10.15"
  }
 },
 "nbformat": 4,
 "nbformat_minor": 2
}
