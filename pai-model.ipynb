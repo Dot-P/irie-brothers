{
 "cells": [
  {
   "cell_type": "markdown",
   "id": "94e7f054",
   "metadata": {},
   "source": [
    "# 応用情報工学演習：Scikit-Learnマスターコース\n",
    "## 実践編 配布用コードファイル"
   ]
  },
  {
   "cell_type": "markdown",
   "id": "05475811",
   "metadata": {},
   "source": [
    "#### 基本ライブラリの読み込み"
   ]
  },
  {
   "cell_type": "code",
   "execution_count": 1,
   "id": "29e49b0f",
   "metadata": {
    "scrolled": true
   },
   "outputs": [],
   "source": [
    "import os, sys\n",
    "import glob\n",
    "\n",
    "import warnings\n",
    "warnings.simplefilter('ignore')\n",
    "\n",
    "import numpy as np\n",
    "from sklearn.metrics import accuracy_score\n",
    "from PIL import Image\n",
    "\n",
    "# 自作モジュールのインポート\n",
    "from utils.train import fit, evaluate_history, generate_pseudo_labels ,torch_seed, fit_self_train\n",
    "from utils.dataset import MyDataset\n",
    "\n",
    "# 必要ライブラリのインポート\n",
    "import matplotlib.pyplot as plt\n",
    "\n",
    "# PyTorch関連ライブラリのインポート\n",
    "import torch\n",
    "import torch.nn as nn\n",
    "import torch.optim as optim\n",
    "from torch.utils.data import DataLoader\n",
    "from torchvision import models\n",
    "import torchvision.transforms as transforms\n",
    "\n",
    "# warning表示off\n",
    "import warnings\n",
    "warnings.simplefilter('ignore')\n",
    "\n",
    "# デフォルトフォントサイズ変更\n",
    "plt.rcParams['font.size'] = 14\n",
    "\n",
    "# デフォルトグラフサイズ変更\n",
    "plt.rcParams['figure.figsize'] = (6,6)\n",
    "\n",
    "# デフォルトで方眼表示ON\n",
    "plt.rcParams['axes.grid'] = True\n",
    "\n",
    "# numpyの表示桁数設定\n",
    "np.set_printoptions(suppress=True, precision=5)\n",
    "\n",
    "np.random.seed(1)"
   ]
  },
  {
   "cell_type": "markdown",
   "id": "e0c439ac",
   "metadata": {},
   "source": [
    "### Cudaのチェック"
   ]
  },
  {
   "cell_type": "code",
   "execution_count": 2,
   "id": "d9188925",
   "metadata": {},
   "outputs": [
    {
     "name": "stdout",
     "output_type": "stream",
     "text": [
      "cuda:0\n"
     ]
    }
   ],
   "source": [
    "device = torch.device(\"cuda:0\" if torch.cuda.is_available() else \"cpu\")\n",
    "print(device)"
   ]
  },
  {
   "cell_type": "markdown",
   "id": "3f4a261d",
   "metadata": {},
   "source": [
    "#### データ読み込み関数"
   ]
  },
  {
   "cell_type": "code",
   "execution_count": 3,
   "id": "42558127",
   "metadata": {},
   "outputs": [],
   "source": [
    "#-*-*-*-*-*-*-*-*-*-*-*-*-*-*-*-*-*-*-*-*-*-*-*-*-*-*-*-*-*-*-*-*-*-*-*-*-*-*-*-*-*-*-*-*-*-#\n",
    "#                               このセルは変更を禁止します                                  #\n",
    "#-*-*-*-*-*-*-*-*-*-*-*-*-*-*-*-*-*-*-*-*-*-*-*-*-*-*-*-*-*-*-*-*-*-*-*-*-*-*-*-*-*-*-*-*-*-#\n",
    "#-------------------------------------------------------------------------------------------#\n",
    "#-                                  データ読み込み関数                                     -#\n",
    "#-------------------------------------------------------------------------------------------#\n",
    "def load_data_(root_dir='../data/gw_dataset'):\n",
    "    \"\"\"\n",
    "    グループワーク用　学習用データ読み込み関数\n",
    "\n",
    "    Args:\n",
    "        * root_dir: 配布したgw_datasetへのパスを指定する (default: '../data/gw_dataset')\n",
    "        \n",
    "    Output:\n",
    "        * X_train:  正解ラベル付き学習用画像   shape: (140x150,528)\n",
    "                    1行あたり、画像1枚の画素値を格納したnp.array\n",
    "                    画像140枚、各画像224x224=150,528次元のベクトル\n",
    "                    \n",
    "        * y_train:  X_trainの正解ラベル        shape: (140, )\n",
    "                    クラス数は7　140枚分のクラスラベル（0～6）の整数が格納されている\n",
    "        \n",
    "        * X_trainu: 正解ラベルなし学習用画像   shape: (210x150,528)\n",
    "                    形式はX_trainと同じ\n",
    "                    \n",
    "        * X_val:   正解ラベル付き検証用画像   shape: (70x150,528)\n",
    "                    形式はX_trainと同じ\n",
    "                    \n",
    "        * y_val:    X_valの正解ラベル          shape: (70, )\n",
    "                    形式はy_valと同じ                             \n",
    "    \"\"\"\n",
    "    \n",
    "    #----------------- 学習用データの読み込み -------------------#\n",
    "    train_paths = sorted(glob.glob(os.path.join(root_dir, \"train\", \"*.png\")))\n",
    "    \n",
    "    X_train = np.array([np.array(Image.open(p)).astype(np.float32).ravel() for p in train_paths])\n",
    "    y_train = np.load(os.path.join(root_dir, \"y_train.npy\"))\n",
    "\n",
    "    #------------ ラベルなし学習用データの読み込み --------------#\n",
    "    trainu_paths = sorted(glob.glob(os.path.join(root_dir, \"train-u\", \"*.png\")))\n",
    "    X_trainu = np.array([np.array(Image.open(p)).astype(np.float32).ravel() for p in trainu_paths])\n",
    "    \n",
    "    #----------------- 検証用データの読み込み -------------------#\n",
    "    val_paths = sorted(glob.glob(os.path.join(root_dir,\"val\", \"*.png\")))\n",
    "    X_val = np.array([np.array(Image.open(p)).astype(np.float32).ravel() for p in val_paths])\n",
    "    y_val = np.load(os.path.join(root_dir, \"y_val.npy\"))\n",
    "\n",
    "    return X_train, y_train, X_trainu, X_val, y_val"
   ]
  },
  {
   "cell_type": "code",
   "execution_count": 4,
   "id": "4f4ef9ba",
   "metadata": {},
   "outputs": [
    {
     "name": "stdout",
     "output_type": "stream",
     "text": [
      "(140, 150528) (140,) (210, 150528) (70, 150528) (70,)\n"
     ]
    }
   ],
   "source": [
    "### データ読み込み関数の実行\n",
    "X_train, y_train, X_trainu, X_val, y_val = load_data_() # すべて必要な場合\n",
    "print(X_train.shape, y_train.shape, X_trainu.shape, X_val.shape, y_val.shape)\n",
    "\n",
    "# X_train, y_train, _, X_val, y_val = load_data_() # いらないデータがある場合\n",
    "# print(X_train.shape, y_train.shape, X_val.shape, y_val.shape)"
   ]
  },
  {
   "cell_type": "markdown",
   "id": "3a6fa050",
   "metadata": {},
   "source": [
    "#### 評価関数"
   ]
  },
  {
   "cell_type": "code",
   "execution_count": 5,
   "id": "22a0fbcf",
   "metadata": {
    "scrolled": true
   },
   "outputs": [],
   "source": [
    "#-*-*-*-*-*-*-*-*-*-*-*-*-*-*-*-*-*-*-*-*-*-*-*-*-*-*-*-*-*-*-*-*-*-*-*-*-*-*-*-*-*-*-*-*-*-#\n",
    "#                               このセルは変更を禁止します                                  #\n",
    "#-*-*-*-*-*-*-*-*-*-*-*-*-*-*-*-*-*-*-*-*-*-*-*-*-*-*-*-*-*-*-*-*-*-*-*-*-*-*-*-*-*-*-*-*-*-#\n",
    "#-------------------------------------------------------------------------------------------#\n",
    "#-                                       評価関数                                          -#\n",
    "#-------------------------------------------------------------------------------------------#\n",
    "\n",
    "def eval_(y_pred):\n",
    "    \"\"\"\n",
    "    グループワーク用　評価関数\n",
    "    実行する前にy_valがglobalスコープに読み込まれている必要がある\n",
    "\n",
    "    Args:\n",
    "        * y_pred:   識別結果　y_valと同形式・同shapeでなければならない\n",
    "    \"\"\"\n",
    "\n",
    "    try:\n",
    "        y_val\n",
    "    except NameError as e:\n",
    "        print(\"y_valが読み込まれていません\")\n",
    "        \n",
    "    assert y_pred.shape == y_val.shape, 'y_predとy_valのサイズが一致しません'\n",
    "    \n",
    "    print(\"valデータでの識別精度:{0:.3f}\".format(accuracy_score(y_val, y_pred)))"
   ]
  },
  {
   "cell_type": "markdown",
   "id": "29a95cdb",
   "metadata": {},
   "source": [
    "### データの確認"
   ]
  },
  {
   "cell_type": "code",
   "execution_count": 6,
   "id": "7df4ccf2",
   "metadata": {},
   "outputs": [
    {
     "name": "stdout",
     "output_type": "stream",
     "text": [
      "訓練データ: 140件\n",
      "ラベルなし訓練データ: 210件\n",
      "検証データ: 70件\n"
     ]
    }
   ],
   "source": [
    "# 分類先クラスのリスト作成\n",
    "classes = [ '0', '1', '2', '3', '4', '5', '6']\n",
    "\n",
    "# データを復元\n",
    "X_train_reshaped = X_train.reshape(-1, 224, 224, 3)\n",
    "X_val_reshaped = X_val.reshape(-1, 224, 224, 3)\n",
    "X_trainu_reshaped = X_trainu.reshape(-1, 224, 224, 3)\n",
    "\n",
    "# データセット作成\n",
    "train_data = MyDataset(X_train_reshaped, y_train, type='no_trans')\n",
    "val_data = MyDataset(X_val_reshaped, y_val, type='val')\n",
    "trainu_data = MyDataset(X_trainu_reshaped, None, type='no_trans')\n",
    "\n",
    "# データ件数確認\n",
    "print(f'訓練データ: {len(train_data)}件')\n",
    "print(f'ラベルなし訓練データ: {len(trainu_data)}件')\n",
    "print(f'検証データ: {len(val_data)}件')\n",
    "\n",
    "# データローダー作成\n",
    "batch_size = 70\n",
    "train_loader = DataLoader(train_data, batch_size=batch_size, shuffle=True)\n",
    "val_loader = DataLoader(val_data, batch_size=batch_size, shuffle=False)\n",
    "unlabeled_loader = DataLoader(trainu_data, batch_size=batch_size, shuffle=True)\n"
   ]
  },
  {
   "cell_type": "markdown",
   "id": "ad4962e0",
   "metadata": {},
   "source": [
    "### モデルの定義"
   ]
  },
  {
   "cell_type": "code",
   "execution_count": 7,
   "id": "8606571f",
   "metadata": {},
   "outputs": [],
   "source": [
    "# 試行回数\n",
    "num_epochs = 1000\n",
    "\n",
    "# Consistency regularizationの重み\n",
    "w = 0\n",
    "\n",
    "# historyファイルを初期化する\n",
    "history = np.zeros((0, 5), dtype=float)\n",
    "\n",
    "# 学習モデル定義\n",
    "net = models.resnet18(pretrained = True)\n",
    "net.fc = nn.Linear(in_features=net.fc.in_features, out_features=7)  # 7クラスに変更\n",
    "\n",
    "# 乱数初期化\n",
    "torch_seed()\n",
    "\n",
    "# GPUの利用\n",
    "net = net.to(device)\n",
    "\n",
    "# 学習率\n",
    "lr = 1e-4\n",
    "\n",
    "# 損失関数定義\n",
    "ce = nn.CrossEntropyLoss()\n",
    "mse = nn.MSELoss()\n",
    "\n",
    "# 最適化関数定義\n",
    "optimizer = optim.Adam(net.parameters(), lr=lr)"
   ]
  },
  {
   "cell_type": "markdown",
   "id": "13f5fe30",
   "metadata": {},
   "source": [
    "### Π-model"
   ]
  },
  {
   "cell_type": "code",
   "execution_count": 8,
   "id": "1acb5e46",
   "metadata": {},
   "outputs": [],
   "source": [
    "weak_transform = transforms.Compose([\n",
    "    transforms.ToPILImage(),\n",
    "    transforms.ToTensor(),\n",
    "    transforms.Normalize(mean=[0.485, 0.456, 0.406], std=[0.229, 0.224, 0.225]),\n",
    "])\n",
    "\n",
    "strong_transform = transforms.Compose([\n",
    "    transforms.ToPILImage(),\n",
    "    transforms.RandomHorizontalFlip(),\n",
    "    transforms.RandAugment(num_ops=2, magnitude=10),\n",
    "    transforms.ToTensor(),\n",
    "    transforms.Normalize(mean=[0.485, 0.456, 0.406], std=[0.229, 0.224, 0.225]),\n",
    "])\n"
   ]
  },
  {
   "cell_type": "code",
   "execution_count": null,
   "id": "4dd58fa2",
   "metadata": {},
   "outputs": [
    {
     "name": "stdout",
     "output_type": "stream",
     "text": [
      "Epoch 1/1000: Train Loss: 0.0290, Train Acc: 0.1429, Val Loss: 0.0259, Val Acc: 0.2714\n",
      "Epoch 51/1000: Train Loss: 0.0001, Train Acc: 1.0000, Val Loss: 0.0093, Val Acc: 0.7571\n",
      "Epoch 101/1000: Train Loss: 0.0002, Train Acc: 1.0000, Val Loss: 0.0100, Val Acc: 0.7286\n",
      "Epoch 151/1000: Train Loss: 0.0536, Train Acc: 0.7929, Val Loss: 0.0392, Val Acc: 0.4000\n",
      "Epoch 201/1000: Train Loss: 0.0016, Train Acc: 1.0000, Val Loss: 0.0392, Val Acc: 0.7143\n",
      "Epoch 251/1000: Train Loss: 0.0023, Train Acc: 1.0000, Val Loss: 0.0174, Val Acc: 0.7286\n",
      "Epoch 301/1000: Train Loss: 0.0032, Train Acc: 1.0000, Val Loss: 0.0140, Val Acc: 0.6857\n",
      "Epoch 351/1000: Train Loss: 224109218388548681728.0000, Train Acc: 0.1429, Val Loss: 34023074318.6286, Val Acc: 0.1429\n",
      "Epoch 401/1000: Train Loss: 236248799858400952320.0000, Train Acc: 0.1429, Val Loss: 43487820887.7714, Val Acc: 0.1429\n",
      "Epoch 451/1000: Train Loss: 551861608610194325504.0000, Train Acc: 0.1429, Val Loss: 47470503526.4000, Val Acc: 0.1429\n",
      "Epoch 501/1000: Train Loss: 505364564195948494848.0000, Train Acc: 0.1429, Val Loss: 49487334604.8000, Val Acc: 0.1429\n",
      "Epoch 551/1000: Train Loss: 540193393178483949568.0000, Train Acc: 0.1429, Val Loss: 50532794836.1143, Val Acc: 0.1429\n",
      "Epoch 601/1000: Train Loss: 639464727841879752704.0000, Train Acc: 0.1429, Val Loss: 51117132536.6857, Val Acc: 0.1429\n",
      "Epoch 651/1000: Train Loss: 753020837151919439872.0000, Train Acc: 0.1429, Val Loss: 51554351279.5429, Val Acc: 0.1429\n",
      "Epoch 701/1000: Train Loss: 744097018827422302208.0000, Train Acc: 0.1429, Val Loss: 51965370602.0571, Val Acc: 0.1429\n",
      "Epoch 751/1000: Train Loss: 1021926717662547148800.0000, Train Acc: 0.1429, Val Loss: 52256234349.7143, Val Acc: 0.1429\n",
      "Epoch 801/1000: Train Loss: 872521183272987918336.0000, Train Acc: 0.1429, Val Loss: 52500305393.3714, Val Acc: 0.1429\n",
      "Epoch 851/1000: Train Loss: 766311023989427273728.0000, Train Acc: 0.1429, Val Loss: 52708002084.5714, Val Acc: 0.1429\n",
      "Epoch 901/1000: Train Loss: 1104588294371669049344.0000, Train Acc: 0.1429, Val Loss: 52892030917.4857, Val Acc: 0.1429\n"
     ]
    }
   ],
   "source": [
    "history = np.zeros((0, 5), dtype=float)\n",
    "base_epochs = len(history)\n",
    "net.train()\n",
    "\n",
    "for epoch in range(base_epochs, num_epochs + base_epochs):\n",
    "    train_loss = 0.0\n",
    "    train_acc = 0.0\n",
    "    val_loss = 0.0\n",
    "    val_acc = 0.0\n",
    "    \n",
    "    for (x_l, y_l), x_u in zip(train_loader, unlabeled_loader):\n",
    "        # 全てGPUへ転送\n",
    "        x_l, y_l, x_u = x_l.to(device), y_l.to(device), x_u.to(device)\n",
    "        \n",
    "        # ラベルありデータのデータ拡張\n",
    "        x_l_weak = torch.stack([weak_transform(x_l[i].cpu()) for i in range(x_l.size(0))]).to(device)\n",
    "        x_l_strong = torch.stack([strong_transform(x_l[i].cpu()) for i in range(x_l.size(0))]).to(device)\n",
    "        \n",
    "        # ラベルあり拡張データとラベルなしデータを結合\n",
    "        x_weak = torch.cat([x_l_weak, x_u], dim=0)\n",
    "        x_strong = torch.cat([x_l_strong, x_u], dim=0)\n",
    "\n",
    "        # ネットワークで学習する\n",
    "        z_weak = net(x_weak)\n",
    "        with torch.no_grad():\n",
    "            z_strong = net(x_strong)\n",
    "        \n",
    "        # weak_transform の出力を教師ありデータの数分スライス\n",
    "        z_l_weak = z_weak[:x_l.size(0)]  # ラベルあり部分の出力\n",
    "        y_pred = z_l_weak.max(1)[1]  # 予測ラベル\n",
    "        \n",
    "        # Lossの計算\n",
    "        Lx = ce(z_l_weak, y_l)\n",
    "        Lu = mse(z_weak, z_strong)\n",
    "\n",
    "        # 損失の合計\n",
    "        loss = Lx + w * Lu\n",
    "\n",
    "        # 損失と精度の記録\n",
    "        train_loss += loss.item()\n",
    "        train_acc += (y_pred == y_l).sum().item()\n",
    "        \n",
    "        # 逆伝播と最適化\n",
    "        optimizer.zero_grad()\n",
    "        loss.backward()\n",
    "        optimizer.step()\n",
    "    \n",
    "    # wの更新\n",
    "    w = min(1, w + 0.0001)\n",
    "\n",
    "    # 検証データでの損失と精度計算\n",
    "    net.eval()\n",
    "    with torch.no_grad():\n",
    "        for inputs, labels in val_loader:\n",
    "            inputs, labels = inputs.to(device), labels.to(device)\n",
    "            outputs = net(inputs)\n",
    "            loss = ce(outputs, labels)\n",
    "            val_loss += loss.item()\n",
    "            _, preds = outputs.max(1)\n",
    "            val_acc += (preds == labels).sum().item()\n",
    "\n",
    "    # 平均損失と精度の計算\n",
    "    avg_train_loss = train_loss / len(train_loader.dataset)\n",
    "    avg_train_acc = train_acc / len(train_loader.dataset)\n",
    "    avg_val_loss = val_loss / len(val_loader.dataset)\n",
    "    avg_val_acc = val_acc / len(val_loader.dataset)\n",
    "\n",
    "    # エポック結果表示\n",
    "    if epoch % 50 == 0:\n",
    "        print(f\"Epoch {epoch+1}/{num_epochs+base_epochs}: \"\n",
    "              f\"Train Loss: {avg_train_loss:.4f}, Train Acc: {avg_train_acc:.4f}, \"\n",
    "              f\"Val Loss: {avg_val_loss:.4f}, Val Acc: {avg_val_acc:.4f}\")\n",
    "\n",
    "    # 履歴更新\n",
    "    history = np.vstack((history, [epoch + 1, avg_train_loss, avg_train_acc, avg_val_loss, avg_val_acc]))\n"
   ]
  },
  {
   "cell_type": "code",
   "execution_count": null,
   "id": "721e4a1d",
   "metadata": {},
   "outputs": [],
   "source": [
    "# 結果確認\n",
    "evaluate_history(history)"
   ]
  },
  {
   "cell_type": "markdown",
   "id": "f8d7b9c7",
   "metadata": {},
   "source": [
    "### モデルの保存"
   ]
  },
  {
   "cell_type": "code",
   "execution_count": null,
   "id": "afa309a7",
   "metadata": {},
   "outputs": [],
   "source": [
    "path = 'model.pth'\n",
    "torch.save(net.state_dict(), path)"
   ]
  }
 ],
 "metadata": {
  "kernelspec": {
   "display_name": "irie",
   "language": "python",
   "name": "python3"
  },
  "language_info": {
   "codemirror_mode": {
    "name": "ipython",
    "version": 3
   },
   "file_extension": ".py",
   "mimetype": "text/x-python",
   "name": "python",
   "nbconvert_exporter": "python",
   "pygments_lexer": "ipython3",
   "version": "3.10.15"
  }
 },
 "nbformat": 4,
 "nbformat_minor": 5
}
